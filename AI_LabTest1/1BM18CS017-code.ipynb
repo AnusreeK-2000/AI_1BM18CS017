{
 "cells": [
  {
   "cell_type": "code",
   "execution_count": 1,
   "metadata": {},
   "outputs": [],
   "source": [
    "board = [' '] * 9"
   ]
  },
  {
   "cell_type": "code",
   "execution_count": 2,
   "metadata": {},
   "outputs": [],
   "source": [
    "from time import sleep\n",
    "import random"
   ]
  },
  {
   "cell_type": "code",
   "execution_count": 3,
   "metadata": {},
   "outputs": [
    {
     "name": "stdout",
     "output_type": "stream",
     "text": [
      "   |   |   \n",
      "---+---+---\n",
      "   |   |   \n",
      "---+---+---\n",
      "   |   |   \n",
      "\n"
     ]
    }
   ],
   "source": [
    "def display_board(board):\n",
    "    print(f\" {board[0]} | {board[1]} | {board[2]} \")\n",
    "    print(\"---+---+---\")\n",
    "    print(f\" {board[3]} | {board[4]} | {board[5]} \")\n",
    "    print(\"---+---+---\")\n",
    "    print(f\" {board[6]} | {board[7]} | {board[8]} \") \n",
    "    print()\n",
    "display_board(board)"
   ]
  },
  {
   "cell_type": "code",
   "execution_count": 4,
   "metadata": {},
   "outputs": [],
   "source": [
    "def check_win(agent_mark, board):\n",
    "    win = [f'{agent_mark}'] * 3\n",
    "    return board[:3] == win or board[3:6] == win or board[6:9] == win or \\\n",
    "        [board[0], board[4], board[8]] == win or [board[2], board[4], board[6]] == win or \\\n",
    "        [board[0], board[3], board[6]] == win or [board[1], board[4], board[7]] == win or [board[2], board[5], board[8]] == win"
   ]
  },
  {
   "cell_type": "code",
   "execution_count": 5,
   "metadata": {},
   "outputs": [],
   "source": [
    "def check_draw(board):\n",
    "    return ' ' not in board"
   ]
  },
  {
   "cell_type": "code",
   "execution_count": 6,
   "metadata": {},
   "outputs": [],
   "source": [
    "def board_copy(board):\n",
    "    new_board = []\n",
    "    for c in board:\n",
    "        new_board += c\n",
    "    return new_board"
   ]
  },
  {
   "cell_type": "code",
   "execution_count": 7,
   "metadata": {},
   "outputs": [],
   "source": [
    "def test_win_move(move, agent_mark, board):\n",
    "    copy = board_copy(board)\n",
    "    copy[move] = agent_mark\n",
    "    return check_win(agent_mark, copy)"
   ]
  },
  {
   "cell_type": "code",
   "execution_count": 8,
   "metadata": {},
   "outputs": [],
   "source": [
    "def win_strategy(board):\n",
    "    if board[4] == ' ':\n",
    "        return 4\n",
    "    for i in [0, 2, 6, 8]:\n",
    "        if board[i] == ' ':\n",
    "            return i\n",
    "    for i in [1, 3, 5, 7]:\n",
    "        if board[i] == ' ':\n",
    "            return i"
   ]
  },
  {
   "cell_type": "code",
   "execution_count": 9,
   "metadata": {},
   "outputs": [],
   "source": [
    "def get_random():\n",
    "    return random.randint(0,8)"
   ]
  },
  {
   "cell_type": "code",
   "execution_count": 13,
   "metadata": {},
   "outputs": [],
   "source": [
    "def get_agent_move(board):\n",
    "    for i in range(9):\n",
    "        if board[i] == ' ' and test_win_move(i, 'X', board):\n",
    "            return i\n",
    "    for i in range(9):\n",
    "        if board[i] == ' ' and test_win_move(i, 'O', board):\n",
    "            return i\n",
    "    return win_strategy(board)"
   ]
  },
  {
   "cell_type": "code",
   "execution_count": 14,
   "metadata": {},
   "outputs": [],
   "source": [
    "def tic_tac_toe():\n",
    "    playing = True\n",
    "    while playing:\n",
    "        in_game = True\n",
    "        first = True\n",
    "        board = [' ']*9\n",
    "        while in_game:\n",
    "            for agent in ['X', 'O']:\n",
    "                if(first):\n",
    "                    move = get_random()\n",
    "                    first = False\n",
    "                else:\n",
    "                    move = get_agent_move(board)\n",
    "                board[move] = agent\n",
    "                if check_win(agent, board):\n",
    "                    in_game = False\n",
    "                    display_board(board)\n",
    "                    print(f\"{agent} won\")\n",
    "                    break\n",
    "                if check_draw(board):\n",
    "                    in_game = False\n",
    "                    display_board(board)\n",
    "                    print(\"Its draw!\")\n",
    "                    break\n",
    "                display_board(board)\n",
    "                sleep(2)\n",
    "        print(\"Continue? y or n\")\n",
    "        ans = input()\n",
    "        if ans not in 'yY':\n",
    "            playing = False"
   ]
  },
  {
   "cell_type": "code",
   "execution_count": 16,
   "metadata": {},
   "outputs": [
    {
     "name": "stdout",
     "output_type": "stream",
     "text": [
      "   |   |   \n",
      "---+---+---\n",
      " X |   |   \n",
      "---+---+---\n",
      "   |   |   \n",
      "\n",
      "   |   |   \n",
      "---+---+---\n",
      " X | O |   \n",
      "---+---+---\n",
      "   |   |   \n",
      "\n",
      " X |   |   \n",
      "---+---+---\n",
      " X | O |   \n",
      "---+---+---\n",
      "   |   |   \n",
      "\n",
      " X |   |   \n",
      "---+---+---\n",
      " X | O |   \n",
      "---+---+---\n",
      " O |   |   \n",
      "\n",
      " X |   | X \n",
      "---+---+---\n",
      " X | O |   \n",
      "---+---+---\n",
      " O |   |   \n",
      "\n",
      " X | O | X \n",
      "---+---+---\n",
      " X | O |   \n",
      "---+---+---\n",
      " O |   |   \n",
      "\n",
      " X | O | X \n",
      "---+---+---\n",
      " X | O |   \n",
      "---+---+---\n",
      " O | X |   \n",
      "\n",
      " X | O | X \n",
      "---+---+---\n",
      " X | O |   \n",
      "---+---+---\n",
      " O | X | O \n",
      "\n",
      " X | O | X \n",
      "---+---+---\n",
      " X | O | X \n",
      "---+---+---\n",
      " O | X | O \n",
      "\n",
      "Its draw!\n",
      "Continue? y or n\n",
      "y\n",
      "   |   |   \n",
      "---+---+---\n",
      "   |   |   \n",
      "---+---+---\n",
      "   | X |   \n",
      "\n",
      "   |   |   \n",
      "---+---+---\n",
      "   | O |   \n",
      "---+---+---\n",
      "   | X |   \n",
      "\n",
      " X |   |   \n",
      "---+---+---\n",
      "   | O |   \n",
      "---+---+---\n",
      "   | X |   \n",
      "\n",
      " X |   | O \n",
      "---+---+---\n",
      "   | O |   \n",
      "---+---+---\n",
      "   | X |   \n",
      "\n",
      " X |   | O \n",
      "---+---+---\n",
      "   | O |   \n",
      "---+---+---\n",
      " X | X |   \n",
      "\n",
      " X |   | O \n",
      "---+---+---\n",
      " O | O |   \n",
      "---+---+---\n",
      " X | X |   \n",
      "\n",
      " X |   | O \n",
      "---+---+---\n",
      " O | O |   \n",
      "---+---+---\n",
      " X | X | X \n",
      "\n",
      "X won\n",
      "Continue? y or n\n",
      "n\n"
     ]
    }
   ],
   "source": [
    "tic_tac_toe()"
   ]
  },
  {
   "cell_type": "code",
   "execution_count": null,
   "metadata": {},
   "outputs": [],
   "source": []
  }
 ],
 "metadata": {
  "kernelspec": {
   "display_name": "Python 3",
   "language": "python",
   "name": "python3"
  },
  "language_info": {
   "codemirror_mode": {
    "name": "ipython",
    "version": 3
   },
   "file_extension": ".py",
   "mimetype": "text/x-python",
   "name": "python",
   "nbconvert_exporter": "python",
   "pygments_lexer": "ipython3",
   "version": "3.7.6"
  }
 },
 "nbformat": 4,
 "nbformat_minor": 4
}
