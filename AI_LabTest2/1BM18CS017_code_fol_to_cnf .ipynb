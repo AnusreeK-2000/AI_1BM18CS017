{
  "nbformat": 4,
  "nbformat_minor": 0,
  "metadata": {
    "colab": {
      "name": "1BM18CS017_code_fol_to_cnf.ipynb",
      "provenance": []
    },
    "kernelspec": {
      "name": "python3",
      "display_name": "Python 3"
    }
  },
  "cells": [
    {
      "cell_type": "code",
      "metadata": {
        "id": "KqRvos9e4RPc"
      },
      "source": [
        "import re\r\n",
        "\r\n",
        "def getAttributes(string):\r\n",
        "    expr = '\\([^)]+\\)'\r\n",
        "    matches = re.findall(expr, string)\r\n",
        "    return [m for m in str(matches) if m.isalpha()]\r\n",
        "\r\n",
        "def getPredicates(string):\r\n",
        "    expr = '[a-z~]+\\([A-Za-z,]+\\)'\r\n",
        "    return re.findall(expr, string)"
      ],
      "execution_count": 1,
      "outputs": []
    },
    {
      "cell_type": "code",
      "metadata": {
        "id": "LxIn3LLH4ZdP"
      },
      "source": [
        "def DeMorgan(sentence):\r\n",
        "    string = ''.join(list(sentence).copy())\r\n",
        "    string = string.replace('~~','')\r\n",
        "    flag = '[' in string\r\n",
        "    string = string.replace('~[','')\r\n",
        "    string = string.strip(']')\r\n",
        "    for predicate in getPredicates(string):\r\n",
        "        string = string.replace(predicate, f'~{predicate}')\r\n",
        "    s = list(string)\r\n",
        "    for i, c in enumerate(string):\r\n",
        "        if c == 'V':\r\n",
        "            s[i] = '^'\r\n",
        "        elif c == '^':\r\n",
        "            s[i] = 'V'\r\n",
        "    string = ''.join(s)    \r\n",
        "    string = string.replace('~~','')\r\n",
        "    return f'[{string}]' if flag else string"
      ],
      "execution_count": 2,
      "outputs": []
    },
    {
      "cell_type": "code",
      "metadata": {
        "id": "7qcK_iCM4d-G"
      },
      "source": [
        "def Skolemization(sentence):\r\n",
        "    SKOLEM_CONSTANTS = [f'{chr(c)}' for c in range(ord('A'), ord('Z')+1)]\r\n",
        "    statement = ''.join(list(sentence).copy())\r\n",
        "    matches = re.findall('[∀∃].', statement)\r\n",
        "    for match in matches[::-1]:\r\n",
        "        statement = statement.replace(match, '')\r\n",
        "        statements = re.findall('\\[\\[[^]]+\\]]', statement)\r\n",
        "        for s in statements:\r\n",
        "            statement = statement.replace(s, s[1:-1])\r\n",
        "        for predicate in getPredicates(statement):\r\n",
        "            attributes = getAttributes(predicate)\r\n",
        "            if ''.join(attributes).islower():\r\n",
        "                statement = statement.replace(match[1],SKOLEM_CONSTANTS.pop(0))\r\n",
        "            else:\r\n",
        "                aL = [a for a in attributes if a.islower()]\r\n",
        "                aU = [a for a in attributes if not a.islower()][0]\r\n",
        "                statement = statement.replace(aU, f'{SKOLEM_CONSTANTS.pop(0)}({aL[0] if len(aL) else match[1]})')\r\n",
        "    return statement"
      ],
      "execution_count": 3,
      "outputs": []
    },
    {
      "cell_type": "code",
      "metadata": {
        "id": "cnCV5iiP4hli"
      },
      "source": [
        "def fol_to_cnf(fol):\r\n",
        "    \r\n",
        "    statement = fol.replace(\"<=>\", \"_\")\r\n",
        "    while '_' in statement:\r\n",
        "        i = statement.index('_')\r\n",
        "        new_statement = '[' + statement[:i] + '=>' + statement[i+1:] + ']^['+ statement[i+1:] + '=>' + statement[:i] + ']'\r\n",
        "        statement = new_statement\r\n",
        "    statement = statement.replace(\"=>\", \"-\")\r\n",
        "    expr = '\\[([^]]+)\\]'\r\n",
        "    statements = re.findall(expr, statement)\r\n",
        "    for i, s in enumerate(statements):\r\n",
        "        if '[' in s and ']' not in s:\r\n",
        "            statements[i] += ']'\r\n",
        "    for s in statements:\r\n",
        "        statement = statement.replace(s, fol_to_cnf(s))\r\n",
        "    while '-' in statement:\r\n",
        "        i = statement.index('-')\r\n",
        "        br = statement.index('[') if '[' in statement else 0\r\n",
        "        new_statement = '~' + statement[br:i] + 'V' + statement[i+1:]\r\n",
        "        statement = statement[:br] + new_statement if br > 0 else new_statement\r\n",
        "    while '~∀' in statement:\r\n",
        "        i = statement.index('~∀')\r\n",
        "        statement = list(statement)\r\n",
        "        statement[i], statement[i+1], statement[i+2] = '∃', statement[i+2], '~'\r\n",
        "        statement = ''.join(statement)\r\n",
        "    while '~∃' in statement:\r\n",
        "        i = statement.index('~∃')\r\n",
        "        s = list(statement)\r\n",
        "        s[i], s[i+1], s[i+2] = '∀', s[i+2], '~'\r\n",
        "        statement = ''.join(s)\r\n",
        "    statement = statement.replace('~[∀','[~∀')\r\n",
        "    statement = statement.replace('~[∃','[~∃')\r\n",
        "    expr = '(~[∀V∃].)'\r\n",
        "    statements = re.findall(expr, statement)\r\n",
        "    for s in statements:\r\n",
        "        statement = statement.replace(s, fol_to_cnf(s))\r\n",
        "    expr = '~\\[[^]]+\\]'\r\n",
        "    statements = re.findall(expr, statement)\r\n",
        "    for s in statements:\r\n",
        "        statement = statement.replace(s, DeMorgan(s))\r\n",
        "    return statement"
      ],
      "execution_count": 4,
      "outputs": []
    },
    {
      "cell_type": "code",
      "metadata": {
        "id": "0OC6Z2kv4icR"
      },
      "source": [
        "def main():\r\n",
        "    print(\"Enter FOL:\")\r\n",
        "    fol = input()\r\n",
        "    print(\"The CNF form of the given FOL is: \")\r\n",
        "    print(Skolemization(fol_to_cnf(fol)))"
      ],
      "execution_count": 5,
      "outputs": []
    },
    {
      "cell_type": "code",
      "metadata": {
        "id": "eMLCgfr64mnn"
      },
      "source": [
        "#main()"
      ],
      "execution_count": 6,
      "outputs": []
    },
    {
      "cell_type": "code",
      "metadata": {
        "colab": {
          "base_uri": "https://localhost:8080/"
        },
        "id": "R13wYCfO5RZQ",
        "outputId": "db455db0-1417-4659-907f-9b73e4ceec8f"
      },
      "source": [
        "main()"
      ],
      "execution_count": 7,
      "outputs": [
        {
          "output_type": "stream",
          "text": [
            "Enter FOL:\n",
            "∀x Human(x) => HasBrain(x)\n",
            "The CNF form of the given FOL is: \n",
            "~ Human(A) V HasBrain(A)\n"
          ],
          "name": "stdout"
        }
      ]
    },
    {
      "cell_type": "code",
      "metadata": {
        "colab": {
          "base_uri": "https://localhost:8080/"
        },
        "id": "hNfhOpQv_Kbm",
        "outputId": "015508d9-0b81-41ca-b06b-1fc9267ad188"
      },
      "source": [
        "main()"
      ],
      "execution_count": 8,
      "outputs": [
        {
          "output_type": "stream",
          "text": [
            "Enter FOL:\n",
            "∀x Human(x) => ∃y Brain(y) ^ Has(x,y)\n",
            "The CNF form of the given FOL is: \n",
            "~ Human(D) V  Brain(E(x)) ^ Has(D,E(x))\n"
          ],
          "name": "stdout"
        }
      ]
    }
  ]
}